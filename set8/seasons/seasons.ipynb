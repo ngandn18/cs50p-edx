{
 "cells": [
  {
   "cell_type": "code",
   "execution_count": 1,
   "id": "5e97fc7c-5f02-49fb-8acc-fa7e25e901d7",
   "metadata": {},
   "outputs": [],
   "source": [
    "from datetime import date\n",
    "\n",
    "def parse(s):\n",
    "    if s.strip() \n",
    "    date.today()\n",
    "        "
   ]
  },
  {
   "cell_type": "code",
   "execution_count": 24,
   "id": "d2aa5af3-308d-477f-8aa7-84c133c361f2",
   "metadata": {},
   "outputs": [],
   "source": [
    "s = \"2000-11-21\"\n",
    "s2 = \"1999-01-01\""
   ]
  },
  {
   "cell_type": "code",
   "execution_count": 21,
   "id": "7fe89b61-f59d-4cc7-841f-f3e95729fc5f",
   "metadata": {},
   "outputs": [],
   "source": [
    "birthday = date.fromisoformat(s2)\n",
    "minutes = (date.today() - birthday).total_seconds() / 60"
   ]
  },
  {
   "cell_type": "code",
   "execution_count": 26,
   "id": "559d43ae-f7df-4b4f-8b92-8481c9ae641e",
   "metadata": {},
   "outputs": [],
   "source": [
    "birthday = date.fromisoformat(s2)\n",
    "minutes = (date.fromisoformat(\"2000-01-01\") - birthday).total_seconds() / 60"
   ]
  },
  {
   "cell_type": "code",
   "execution_count": 28,
   "id": "f9a3358a-d471-4e82-b2a4-8cca619c2825",
   "metadata": {},
   "outputs": [
    {
     "name": "stdout",
     "output_type": "stream",
     "text": [
      "1999-01-01 525600.0\n"
     ]
    }
   ],
   "source": [
    "print(birthday, minutes)"
   ]
  },
  {
   "cell_type": "code",
   "execution_count": 20,
   "id": "a16c7bac-e47f-4865-80a3-6807d51373ac",
   "metadata": {},
   "outputs": [
    {
     "data": {
      "text/plain": [
       "datetime.timedelta(days=7949)"
      ]
     },
     "execution_count": 20,
     "metadata": {},
     "output_type": "execute_result"
    }
   ],
   "source": [
    "date.today() - birthday"
   ]
  },
  {
   "cell_type": "code",
   "execution_count": 8,
   "id": "82353263-42e3-4884-93f4-322338a9e7e3",
   "metadata": {},
   "outputs": [
    {
     "data": {
      "text/plain": [
       "'Sat Aug 27 00:00:00 2022'"
      ]
     },
     "execution_count": 8,
     "metadata": {},
     "output_type": "execute_result"
    }
   ],
   "source": [
    "date.today().ctime()"
   ]
  },
  {
   "cell_type": "code",
   "execution_count": 22,
   "id": "74f1a02f-2ab6-46f2-b61f-32053e88af17",
   "metadata": {},
   "outputs": [
    {
     "data": {
      "text/plain": [
       "'four thousand, two hundred and eleven'"
      ]
     },
     "execution_count": 22,
     "metadata": {},
     "output_type": "execute_result"
    }
   ],
   "source": [
    "from num2words import num2words\n",
    "num2words(4211)"
   ]
  },
  {
   "cell_type": "code",
   "execution_count": null,
   "id": "23b13a53-3210-4c64-8aee-f9821384ca47",
   "metadata": {},
   "outputs": [],
   "source": []
  }
 ],
 "metadata": {
  "kernelspec": {
   "display_name": "Python 3 (ipykernel)",
   "language": "python",
   "name": "python3"
  },
  "language_info": {
   "codemirror_mode": {
    "name": "ipython",
    "version": 3
   },
   "file_extension": ".py",
   "mimetype": "text/x-python",
   "name": "python",
   "nbconvert_exporter": "python",
   "pygments_lexer": "ipython3",
   "version": "3.9.10"
  }
 },
 "nbformat": 4,
 "nbformat_minor": 5
}
