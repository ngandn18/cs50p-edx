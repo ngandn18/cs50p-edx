{
 "cells": [
  {
   "cell_type": "code",
   "execution_count": 67,
   "id": "35a1cde3-3af0-436a-a7a3-01e8293aaa41",
   "metadata": {},
   "outputs": [],
   "source": [
    "from fpdf import FPDF\n",
    "\n",
    "pdf = FPDF(orientation=\"P\", unit=\"mm\", format=\"A4\")\n",
    "pdf.add_page()\n",
    "# set font for title\n",
    "pdf.set_font('helvetica', size=48)\n",
    "pdf.cell(0, 30, 'CS50 Shirtificate', 0, new_x=\"LMARGIN\", new_y=\"NEXT\", align='C')\n",
    "pdf.ln(5)\n",
    "pdf.image(\"shirtificate.png\", w=pdf.epw, h=pdf.eph * 3/4, y=60)\n",
    "pdf.set_font('helvetica', size=24)\n",
    "pdf.set_text_color(r=255, g=255, b=255)\n",
    "# set font for full name\n",
    "pdf.cell(0, 180, 'Thien Ngan Doan took CS50', 0, new_x=\"LMARGIN\", new_y=\"NEXT\", align='C')\n",
    "\n",
    "pdf.output(\"shirtificate.pdf\")"
   ]
  },
  {
   "cell_type": "code",
   "execution_count": 9,
   "id": "040461cc-1d33-42ff-bbcb-7071bb8edb1f",
   "metadata": {},
   "outputs": [
    {
     "ename": "FileNotFoundError",
     "evalue": "[Errno 2] No such file or directory: '../docs/fpdf2-logo.png'",
     "output_type": "error",
     "traceback": [
      "\u001b[1;31m---------------------------------------------------------------------------\u001b[0m",
      "\u001b[1;31mFileNotFoundError\u001b[0m                         Traceback (most recent call last)",
      "Input \u001b[1;32mIn [9]\u001b[0m, in \u001b[0;36m<cell line: 19>\u001b[1;34m()\u001b[0m\n\u001b[0;32m     17\u001b[0m pdf\u001b[38;5;241m.\u001b[39madd_page()\n\u001b[0;32m     18\u001b[0m pdf\u001b[38;5;241m.\u001b[39mset_link(link)\n\u001b[1;32m---> 19\u001b[0m \u001b[43mpdf\u001b[49m\u001b[38;5;241;43m.\u001b[39;49m\u001b[43mimage\u001b[49m\u001b[43m(\u001b[49m\n\u001b[0;32m     20\u001b[0m \u001b[43m    \u001b[49m\u001b[38;5;124;43m\"\u001b[39;49m\u001b[38;5;124;43m../docs/fpdf2-logo.png\u001b[39;49m\u001b[38;5;124;43m\"\u001b[39;49m\u001b[43m,\u001b[49m\u001b[43m \u001b[49m\u001b[38;5;241;43m10\u001b[39;49m\u001b[43m,\u001b[49m\u001b[43m \u001b[49m\u001b[38;5;241;43m10\u001b[39;49m\u001b[43m,\u001b[49m\u001b[43m \u001b[49m\u001b[38;5;241;43m50\u001b[39;49m\u001b[43m,\u001b[49m\u001b[43m \u001b[49m\u001b[38;5;241;43m0\u001b[39;49m\u001b[43m,\u001b[49m\u001b[43m \u001b[49m\u001b[38;5;124;43m\"\u001b[39;49m\u001b[38;5;124;43m\"\u001b[39;49m\u001b[43m,\u001b[49m\u001b[43m \u001b[49m\u001b[38;5;124;43m\"\u001b[39;49m\u001b[38;5;124;43mhttps://pyfpdf.github.io/fpdf2/\u001b[39;49m\u001b[38;5;124;43m\"\u001b[39;49m\n\u001b[0;32m     21\u001b[0m \u001b[43m)\u001b[49m\n\u001b[0;32m     22\u001b[0m pdf\u001b[38;5;241m.\u001b[39mset_left_margin(\u001b[38;5;241m60\u001b[39m)\n\u001b[0;32m     23\u001b[0m pdf\u001b[38;5;241m.\u001b[39mset_font_size(\u001b[38;5;241m18\u001b[39m)\n",
      "File \u001b[1;32mD:\\Learn\\nvenv\\lib\\site-packages\\fpdf\\fpdf.py:317\u001b[0m, in \u001b[0;36mcheck_page.<locals>.wrapper\u001b[1;34m(self, *args, **kwargs)\u001b[0m\n\u001b[0;32m    315\u001b[0m \u001b[38;5;28;01mif\u001b[39;00m \u001b[38;5;129;01mnot\u001b[39;00m \u001b[38;5;28mself\u001b[39m\u001b[38;5;241m.\u001b[39mpage \u001b[38;5;129;01mand\u001b[39;00m \u001b[38;5;129;01mnot\u001b[39;00m kwargs\u001b[38;5;241m.\u001b[39mget(\u001b[38;5;124m\"\u001b[39m\u001b[38;5;124msplit_only\u001b[39m\u001b[38;5;124m\"\u001b[39m):\n\u001b[0;32m    316\u001b[0m     \u001b[38;5;28;01mraise\u001b[39;00m FPDFException(\u001b[38;5;124m\"\u001b[39m\u001b[38;5;124mNo page open, you need to call add_page() first\u001b[39m\u001b[38;5;124m\"\u001b[39m)\n\u001b[1;32m--> 317\u001b[0m \u001b[38;5;28;01mreturn\u001b[39;00m fn(\u001b[38;5;28mself\u001b[39m, \u001b[38;5;241m*\u001b[39margs, \u001b[38;5;241m*\u001b[39m\u001b[38;5;241m*\u001b[39mkwargs)\n",
      "File \u001b[1;32mD:\\Learn\\nvenv\\lib\\site-packages\\fpdf\\fpdf.py:3370\u001b[0m, in \u001b[0;36mFPDF.image\u001b[1;34m(self, name, x, y, w, h, type, link, title, alt_text)\u001b[0m\n\u001b[0;32m   3368\u001b[0m \u001b[38;5;28;01melse\u001b[39;00m:\n\u001b[0;32m   3369\u001b[0m     \u001b[38;5;28;01mif\u001b[39;00m \u001b[38;5;129;01mnot\u001b[39;00m img:\n\u001b[1;32m-> 3370\u001b[0m         img \u001b[38;5;241m=\u001b[39m \u001b[43mload_image\u001b[49m\u001b[43m(\u001b[49m\u001b[43mname\u001b[49m\u001b[43m)\u001b[49m\n\u001b[0;32m   3371\u001b[0m     info \u001b[38;5;241m=\u001b[39m get_img_info(img, \u001b[38;5;28mself\u001b[39m\u001b[38;5;241m.\u001b[39mimage_filter)\n\u001b[0;32m   3372\u001b[0m     info[\u001b[38;5;124m\"\u001b[39m\u001b[38;5;124mi\u001b[39m\u001b[38;5;124m\"\u001b[39m] \u001b[38;5;241m=\u001b[39m \u001b[38;5;28mlen\u001b[39m(\u001b[38;5;28mself\u001b[39m\u001b[38;5;241m.\u001b[39mimages) \u001b[38;5;241m+\u001b[39m \u001b[38;5;241m1\u001b[39m\n",
      "File \u001b[1;32mD:\\Learn\\nvenv\\lib\\site-packages\\fpdf\\image_parsing.py:40\u001b[0m, in \u001b[0;36mload_image\u001b[1;34m(filename)\u001b[0m\n\u001b[0;32m     38\u001b[0m \u001b[38;5;28;01melif\u001b[39;00m filename\u001b[38;5;241m.\u001b[39mstartswith(\u001b[38;5;124m\"\u001b[39m\u001b[38;5;124mdata\u001b[39m\u001b[38;5;124m\"\u001b[39m):\n\u001b[0;32m     39\u001b[0m     \u001b[38;5;28;01mreturn\u001b[39;00m _decode_base64_image(filename)\n\u001b[1;32m---> 40\u001b[0m \u001b[38;5;28;01mwith\u001b[39;00m \u001b[38;5;28;43mopen\u001b[39;49m\u001b[43m(\u001b[49m\u001b[43mfilename\u001b[49m\u001b[43m,\u001b[49m\u001b[43m \u001b[49m\u001b[38;5;124;43m\"\u001b[39;49m\u001b[38;5;124;43mrb\u001b[39;49m\u001b[38;5;124;43m\"\u001b[39;49m\u001b[43m)\u001b[49m \u001b[38;5;28;01mas\u001b[39;00m local_file:\n\u001b[0;32m     41\u001b[0m     \u001b[38;5;28;01mreturn\u001b[39;00m BytesIO(local_file\u001b[38;5;241m.\u001b[39mread())\n",
      "\u001b[1;31mFileNotFoundError\u001b[0m: [Errno 2] No such file or directory: '../docs/fpdf2-logo.png'"
     ]
    }
   ],
   "source": [
    "# class MyFPDF(FPDF, HTMLMixin):\n",
    "#     pass\n",
    "\n",
    "\n",
    "pdf = FPDF()\n",
    "\n",
    "# First page:\n",
    "pdf.add_page()\n",
    "pdf.set_font(\"helvetica\", size=20)\n",
    "pdf.write(5, \"To find out what's new in self tutorial, click \")\n",
    "pdf.set_font(style=\"U\")\n",
    "# link = pdf.add_link()\n",
    "pdf.write(5, \"here\", link)\n",
    "pdf.set_font()\n",
    "\n",
    "# Second page:\n",
    "pdf.add_page()\n",
    "pdf.set_link(link)\n",
    "pdf.image(\n",
    "    \"../docs/fpdf2-logo.png\", 10, 10, 50, 0, \"\", \"https://pyfpdf.github.io/fpdf2/\"\n",
    ")\n",
    "pdf.set_left_margin(60)\n",
    "pdf.set_font_size(18)\n",
    "pdf.write_html(\n",
    "    \"\"\"You can print text mixing different styles using HTML tags: <b>bold</b>, <i>italic</i>,\n",
    "<u>underlined</u>, or <b><i><u>all at once</u></i></b>!\n",
    "<br><br>You can also insert links on text, such as <a href=\"https://pyfpdf.github.io/fpdf2/\">https://pyfpdf.github.io/fpdf2/</a>,\n",
    "or on an image: the logo is clickable!\"\"\"\n",
    ")\n",
    "pdf.output(\"tuto6.pdf\")"
   ]
  },
  {
   "cell_type": "code",
   "execution_count": 13,
   "id": "a70f9e4f-d7f0-4767-9e69-61de4a815733",
   "metadata": {},
   "outputs": [
    {
     "ename": "ModuleNotFoundError",
     "evalue": "No module named 'response'",
     "output_type": "error",
     "traceback": [
      "\u001b[1;31m---------------------------------------------------------------------------\u001b[0m",
      "\u001b[1;31mModuleNotFoundError\u001b[0m                       Traceback (most recent call last)",
      "Input \u001b[1;32mIn [13]\u001b[0m, in \u001b[0;36m<cell line: 2>\u001b[1;34m()\u001b[0m\n\u001b[0;32m      1\u001b[0m \u001b[38;5;28;01mfrom\u001b[39;00m \u001b[38;5;21;01mfpdf\u001b[39;00m \u001b[38;5;28;01mimport\u001b[39;00m FPDF\n\u001b[1;32m----> 2\u001b[0m \u001b[38;5;28;01mimport\u001b[39;00m \u001b[38;5;21;01mresponse\u001b[39;00m\n\u001b[0;32m      4\u001b[0m \u001b[38;5;28;01mdef\u001b[39;00m \u001b[38;5;21mget_me_a_pdf\u001b[39m():\n\u001b[0;32m      5\u001b[0m     title \u001b[38;5;241m=\u001b[39m \u001b[38;5;124m\"\u001b[39m\u001b[38;5;124mThis The Doc Title\u001b[39m\u001b[38;5;124m\"\u001b[39m\n",
      "\u001b[1;31mModuleNotFoundError\u001b[0m: No module named 'response'"
     ]
    }
   ],
   "source": [
    "from fpdf import FPDF\n",
    "import response\n",
    "\n",
    "def get_me_a_pdf():\n",
    "    title = \"This The Doc Title\"\n",
    "    heading = \"First Paragraph\"\n",
    "    text = 'bla ' * 10000\n",
    "\n",
    "    pdf = FPDF()\n",
    "    pdf.add_page()\n",
    "    pdf.set_font('Times', 'B', 15)\n",
    "    pdf.cell(w=210, h=9, txt=title, border=0,\n",
    "            new_x=\"LMARGIN\", new_y=\"NEXT\", align='C', fill=False)\n",
    "    pdf.set_font('Times', 'B', 15)\n",
    "    pdf.cell(w=0, h=6, txt=heading, border=0,\n",
    "            new_x=\"LMARGIN\", new_y=\"NEXT\", align='L', fill=False)\n",
    "    pdf.set_font('Times', '', 12)\n",
    "    pdf.multi_cell(w=0, h=5, txt=text)\n",
    "    response.headers['Content-Type'] = 'application/pdf'\n",
    "    return pdf.output()"
   ]
  },
  {
   "cell_type": "code",
   "execution_count": 12,
   "id": "944d6416-d9c7-4da1-8585-cfcd092145f3",
   "metadata": {},
   "outputs": [
    {
     "ename": "NameError",
     "evalue": "name 'response' is not defined",
     "output_type": "error",
     "traceback": [
      "\u001b[1;31m---------------------------------------------------------------------------\u001b[0m",
      "\u001b[1;31mNameError\u001b[0m                                 Traceback (most recent call last)",
      "Input \u001b[1;32mIn [12]\u001b[0m, in \u001b[0;36m<cell line: 1>\u001b[1;34m()\u001b[0m\n\u001b[1;32m----> 1\u001b[0m \u001b[43mget_me_a_pdf\u001b[49m\u001b[43m(\u001b[49m\u001b[43m)\u001b[49m\n",
      "Input \u001b[1;32mIn [10]\u001b[0m, in \u001b[0;36mget_me_a_pdf\u001b[1;34m()\u001b[0m\n\u001b[0;32m     16\u001b[0m pdf\u001b[38;5;241m.\u001b[39mset_font(\u001b[38;5;124m'\u001b[39m\u001b[38;5;124mTimes\u001b[39m\u001b[38;5;124m'\u001b[39m, \u001b[38;5;124m'\u001b[39m\u001b[38;5;124m'\u001b[39m, \u001b[38;5;241m12\u001b[39m)\n\u001b[0;32m     17\u001b[0m pdf\u001b[38;5;241m.\u001b[39mmulti_cell(w\u001b[38;5;241m=\u001b[39m\u001b[38;5;241m0\u001b[39m, h\u001b[38;5;241m=\u001b[39m\u001b[38;5;241m5\u001b[39m, txt\u001b[38;5;241m=\u001b[39mtext)\n\u001b[1;32m---> 18\u001b[0m \u001b[43mresponse\u001b[49m\u001b[38;5;241m.\u001b[39mheaders[\u001b[38;5;124m'\u001b[39m\u001b[38;5;124mContent-Type\u001b[39m\u001b[38;5;124m'\u001b[39m] \u001b[38;5;241m=\u001b[39m \u001b[38;5;124m'\u001b[39m\u001b[38;5;124mapplication/pdf\u001b[39m\u001b[38;5;124m'\u001b[39m\n\u001b[0;32m     19\u001b[0m \u001b[38;5;28;01mreturn\u001b[39;00m pdf\u001b[38;5;241m.\u001b[39moutput()\n",
      "\u001b[1;31mNameError\u001b[0m: name 'response' is not defined"
     ]
    }
   ],
   "source": [
    "get_me_a_pdf()\n"
   ]
  },
  {
   "cell_type": "code",
   "execution_count": 19,
   "id": "da482635-8501-4278-a6a7-6279b3f3a9d1",
   "metadata": {},
   "outputs": [],
   "source": [
    "from fpdf import FPDF\n",
    "\n",
    "pdf = FPDF(orientation=\"landscape\")\n",
    "pdf.set_margin(0)\n",
    "pdf.add_page()\n",
    "# pdf.image(\"sh.png\", h=pdf.eph, w=pdf.epw/2)               # full page height, half page width\n",
    "pdf.image(\"sh.png\", h=pdf.eph, w=pdf.epw)               # full page height, half page width\n",
    "pdf.set_y(0)\n",
    "# pdf.image(\"sh.png\", h=pdf.eph, w=pdf.epw/2, x=pdf.epw/2)  # full page height, half page width, right half of the page\n",
    "\n",
    "pdf.image(\"sh.png\", h=pdf.eph, w=pdf.epw)               # full page height, half page width\n",
    "pdf.output(\"sh.pdf\")"
   ]
  },
  {
   "cell_type": "code",
   "execution_count": 27,
   "id": "42ca10d2-30ad-433b-be0a-7a2ab0c6a5a9",
   "metadata": {},
   "outputs": [
    {
     "name": "stderr",
     "output_type": "stream",
     "text": [
      "C:\\Users\\myname\\AppData\\Local\\Temp\\ipykernel_2120\\2341916386.py:41: DeprecationWarning: The parameter \"ln\" is deprecated. Instead of ln=1 use new_x=XPos.LMARGIN, new_y=YPos.NEXT.\n",
      "  self.cell(0, 6, 'Chapter %d : %s' % (num, label), 0, 1, 'L', 1)\n",
      "C:\\Users\\myname\\AppData\\Local\\Temp\\ipykernel_2120\\2341916386.py:33: DeprecationWarning: The parameter \"ln\" is deprecated. Instead of ln=0 use new_x=XPos.RIGHT, new_y=YPos.TOP.\n",
      "  self.cell(0, 10, 'Page ' + str(self.page_no()), 0, 0, 'C')\n"
     ]
    }
   ],
   "source": [
    "from fpdf import FPDF\n",
    "\n",
    "title = '20000 Leagues Under the Seas'\n",
    "\n",
    "class PDF(FPDF):\n",
    "    def header(self):\n",
    "        # Arial bold 15\n",
    "        self.set_font('Arial', 'B', 15)\n",
    "        # Calculate width of title and position\n",
    "        w = self.get_string_width(title) + 6\n",
    "        self.set_x((210 - w) / 2)\n",
    "        # Colors of frame, background and text\n",
    "        self.set_draw_color(0, 80, 180)\n",
    "        self.set_fill_color(230, 230, 0)\n",
    "        self.set_text_color(220, 50, 50)\n",
    "        # Thickness of frame (1 mm)\n",
    "        self.set_line_width(1)\n",
    "        # Title\n",
    "        # self.cell(w, 9, title, 1, 1, 'C', 1)\n",
    "        self.cell(w, 9, title, 1, new_x=\"LMARGIN\", new_y=\"NEXT\", align='C')\n",
    "        # new_x=XPos.LMARGIN, new_y=YPos.NEXT\n",
    "        # Line break\n",
    "        self.ln(10)\n",
    "\n",
    "    def footer(self):\n",
    "        # Position at 1.5 cm from bottom\n",
    "        self.set_y(-15)\n",
    "        # Arial italic 8\n",
    "        self.set_font('Arial', 'I', 8)\n",
    "        # Text color in gray\n",
    "        self.set_text_color(128)\n",
    "        # Page number\n",
    "        self.cell(0, 10, 'Page ' + str(self.page_no()), 0, 0, 'C')\n",
    "\n",
    "    def chapter_title(self, num, label):\n",
    "        # Arial 12\n",
    "        self.set_font('Arial', '', 12)\n",
    "        # Background color\n",
    "        self.set_fill_color(200, 220, 255)\n",
    "        # Title\n",
    "        self.cell(0, 6, 'Chapter %d : %s' % (num, label), 0, 1, 'L', 1)\n",
    "        # Line break\n",
    "        self.ln(4)\n",
    "\n",
    "    def chapter_body(self, name):\n",
    "        # Read text file\n",
    "        with open(name, 'rb') as fh:\n",
    "            txt = fh.read().decode('latin-1')\n",
    "        # Times 12\n",
    "        self.set_font('Times', '', 12)\n",
    "        # Output justified text\n",
    "        self.multi_cell(0, 5, txt)\n",
    "        # Line break\n",
    "        self.ln()\n",
    "        # Mention in italics\n",
    "        self.set_font('', 'I')\n",
    "        self.cell(0, 5, '(end of excerpt)')\n",
    "\n",
    "    def print_chapter(self, num, title, name):\n",
    "        self.add_page()\n",
    "        self.chapter_title(num, title)\n",
    "        self.chapter_body(name)\n",
    "\n",
    "pdf = PDF()\n",
    "pdf.set_title(title)\n",
    "pdf.set_author('Jules Verne')\n",
    "pdf.print_chapter(1, 'A RUNAWAY REEF', 'c1.txt')\n",
    "pdf.print_chapter(2, 'THE PROS AND CONS', 'c2.txt')\n",
    "pdf.output('tuto3.pdf')\n",
    "# pdf.output('tuto3.pdf', 'F')"
   ]
  },
  {
   "cell_type": "code",
   "execution_count": null,
   "id": "116559aa-cf0c-46c5-996e-7d3043b6fd41",
   "metadata": {},
   "outputs": [],
   "source": []
  }
 ],
 "metadata": {
  "kernelspec": {
   "display_name": "Python 3 (ipykernel)",
   "language": "python",
   "name": "python3"
  },
  "language_info": {
   "codemirror_mode": {
    "name": "ipython",
    "version": 3
   },
   "file_extension": ".py",
   "mimetype": "text/x-python",
   "name": "python",
   "nbconvert_exporter": "python",
   "pygments_lexer": "ipython3",
   "version": "3.9.10"
  }
 },
 "nbformat": 4,
 "nbformat_minor": 5
}
